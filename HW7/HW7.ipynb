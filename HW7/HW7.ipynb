{
 "cells": [
  {
   "cell_type": "code",
   "execution_count": 1,
   "metadata": {},
   "outputs": [],
   "source": [
    "from PIL import Image as img\n",
    "import numpy as np\n",
    "import cv2\n",
    "import matplotlib.pyplot as plt\n",
    "lena=img.open('lena.bmp')\n",
    "lena_arr = np.asarray(lena)"
   ]
  },
  {
   "cell_type": "code",
   "execution_count": 344,
   "metadata": {},
   "outputs": [],
   "source": [
    "def down(arr):\n",
    "    m=len(arr)\n",
    "    n=len(arr[0])\n",
    "    res=[[0]*(m//8) for i in range(n//8)]\n",
    "    for i in range(m//8):\n",
    "        for j in range(n//8):\n",
    "            res[i][j] = arr[8*i][8*j]\n",
    "    return res\n",
    "def up(arr):\n",
    "    m=len(arr)\n",
    "    n=len(arr[0])\n",
    "    res=[[0]*(m*8) for i in range(n*8)]\n",
    "    for i in range(m*8):\n",
    "        for j in range(n*8):\n",
    "            res[i][j] = arr[i//8][j//8]\n",
    "    return res\n",
    "def expan_zero(arr):\n",
    "    m=len(arr)\n",
    "    n=len(arr[0])\n",
    "    res=res=[[0]*(n+2) for i in range(m+2)]\n",
    "    for i in range(1,m+1):\n",
    "        for j in range(1,n+1):\n",
    "            res[i][j]=arr[i-1][j-1]\n",
    "    return res\n",
    "def h(b,c,d,e):\n",
    "    if b!=c:\n",
    "        return 's'\n",
    "    else:\n",
    "        if d==b and e==b:\n",
    "            return 'r'\n",
    "        else:\n",
    "            return 'q'\n",
    "def f(a1,a2,a3,a4):\n",
    "    if a1=='r' and a2=='r'and a3=='r'and a4=='r':\n",
    "        return 5\n",
    "    tmp=0\n",
    "    if a1=='q':\n",
    "        tmp+=1\n",
    "    if a2=='q':\n",
    "        tmp+=1\n",
    "    if a3=='q':\n",
    "        tmp+=1\n",
    "    if a4=='q':\n",
    "        tmp+=1\n",
    "    return tmp\n",
    "def yokoi(arr):\n",
    "    m=len(arr)\n",
    "    n=len(arr[0])\n",
    "    res=[[0]*(m) for i in range(n)]\n",
    "    arr=expan_zero(arr)\n",
    "    \n",
    "    for i in range(m):\n",
    "        for j in range(n):\n",
    "            a1=h(arr[i+1][j+1],arr[i+1][j+2],arr[i][j+2],arr[i][j+1])\n",
    "            a2=h(arr[i+1][j+1],arr[i][j+1],arr[i][j],arr[i+1][j])\n",
    "            a3=h(arr[i+1][j+1],arr[i+1][j],arr[i+2][j],arr[i+2][j+1])\n",
    "            a4=h(arr[i+1][j+1],arr[i+2][j+1],arr[i+2][j+2],arr[i+1][j+2])\n",
    "            \n",
    "            tmp=f(a1,a2,a3,a4)\n",
    "            if tmp and arr[i+1][j+1]:\n",
    "                res[i][j]=tmp\n",
    "    return res\n",
    "\n",
    "def pair(yokoi_arr):\n",
    "    m=len(yokoi_arr)\n",
    "    n=len(yokoi_arr[0])\n",
    "    res=[[0]*(m) for i in range(n)]\n",
    "    yokoi_arr=expan_zero(yokoi_arr)\n",
    "    for i in range(m):\n",
    "        for j in range(n):\n",
    "            if yokoi_arr[i+1][j+1]==1:\n",
    "                tmp=0\n",
    "                for x,y in [(i,j+1),(i+1,j),(i+2,j+1),(i+1,j+2)]:\n",
    "                    if yokoi_arr[x][y]==1:\n",
    "                        tmp+=1\n",
    "                if tmp>=1:\n",
    "                    res[i][j]=1\n",
    "    return res\n",
    "def h2(b,c,d,e):\n",
    "    if b==c and (b!=d or b!=e):\n",
    "        return 1\n",
    "    else:\n",
    "        return 0\n",
    "def f2(a1,a2,a3,a4,x):\n",
    "    if a1+a2+a3+a4==1:\n",
    "        return 0\n",
    "    else:\n",
    "        return x\n",
    "def shink(origin,marked_arr):\n",
    "    m=len(origin)\n",
    "    n=len(origin[0])\n",
    "    origin=expan_zero(origin)\n",
    "    check=0\n",
    "    for i in range(m):\n",
    "        for j in range(n):\n",
    "            if marked_arr[i][j]:\n",
    "                a1=h2(origin[i+1][j+1],origin[i+1][j+2],origin[i][j+2],origin[i][j+1])\n",
    "                a2=h2(origin[i+1][j+1],origin[i][j+1],origin[i][j],origin[i+1][j])\n",
    "                a3=h2(origin[i+1][j+1],origin[i+1][j],origin[i+2][j],origin[i+2][j+1])\n",
    "                a4=h2(origin[i+1][j+1],origin[i+2][j+1],origin[i+2][j+2],origin[i+1][j+2])\n",
    "\n",
    "                tmp=f2(a1,a2,a3,a4,origin[i+1][j+1])\n",
    "                if tmp!=origin[i+1][j+1]:\n",
    "                    check=1\n",
    "                    origin[i+1][j+1]=tmp\n",
    "    copy=[[origin[i][j] for j in range(1,m+1)] for i in range(1,n+1)]\n",
    "    return copy,check\n",
    "            \n",
    "    \n",
    "    "
   ]
  },
  {
   "cell_type": "code",
   "execution_count": 182,
   "metadata": {},
   "outputs": [],
   "source": [
    "down_arr=down((lena_arr//128)*255)"
   ]
  },
  {
   "cell_type": "code",
   "execution_count": 183,
   "metadata": {},
   "outputs": [
    {
     "data": {
      "image/png": "[encoded data removed]",
      "text/plain": [
       "<PIL.Image.Image image mode=L size=64x64 at 0x7F9FAAE4B610>"
      ]
     },
     "execution_count": 183,
     "metadata": {},
     "output_type": "execute_result"
    }
   ],
   "source": [
    "img.fromarray(np.array(down_arr,dtype='uint8'))"
   ]
  },
  {
   "cell_type": "code",
   "execution_count": 184,
   "metadata": {},
   "outputs": [],
   "source": [
    "yokoi_arr=yokoi(down_arr)"
   ]
  },
  {
   "cell_type": "code",
   "execution_count": 185,
   "metadata": {},
   "outputs": [],
   "source": [
    "marked_arr=pair(yokoi_arr)"
   ]
  },
  {
   "cell_type": "code",
   "execution_count": 186,
   "metadata": {},
   "outputs": [
    {
     "data": {
      "image/png": "[encoded data removed]",
      "text/plain": [
       "<PIL.Image.Image image mode=L size=64x64 at 0x7F9FAAE69790>"
      ]
     },
     "execution_count": 186,
     "metadata": {},
     "output_type": "execute_result"
    }
   ],
   "source": [
    "img.fromarray(np.array(marked_arr,dtype='uint8')*255)"
   ]
  },
  {
   "cell_type": "code",
   "execution_count": 187,
   "metadata": {},
   "outputs": [],
   "source": [
    "res=shink(down_arr,marked_arr)"
   ]
  },
  {
   "cell_type": "code",
   "execution_count": 188,
   "metadata": {},
   "outputs": [
    {
     "data": {
      "image/png": "[encoded data removed]",
      "text/plain": [
       "<PIL.Image.Image image mode=L size=64x64 at 0x7F9FAAE4AB50>"
      ]
     },
     "execution_count": 188,
     "metadata": {},
     "output_type": "execute_result"
    }
   ],
   "source": [
    "img.fromarray(np.array(res,dtype='uint8'))"
   ]
  },
  {
   "cell_type": "code",
   "execution_count": 222,
   "metadata": {},
   "outputs": [],
   "source": [
    "res=(lena_arr//128)*255"
   ]
  },
  {
   "cell_type": "code",
   "execution_count": 339,
   "metadata": {},
   "outputs": [],
   "source": [
    "yokoi_arr=yokoi(res)"
   ]
  },
  {
   "cell_type": "code",
   "execution_count": 340,
   "metadata": {},
   "outputs": [],
   "source": [
    "marked_arr=pair(yokoi_arr)"
   ]
  },
  {
   "cell_type": "code",
   "execution_count": 341,
   "metadata": {},
   "outputs": [
    {
     "data": {
      "image/png": "[encoded data removed]",
      "text/plain": [
       "<PIL.Image.Image image mode=L size=512x512 at 0x7F9FAAD65C50>"
      ]
     },
     "execution_count": 341,
     "metadata": {},
     "output_type": "execute_result"
    }
   ],
   "source": [
    "img.fromarray(np.array(marked_arr,dtype='uint8')*255)"
   ]
  },
  {
   "cell_type": "code",
   "execution_count": 342,
   "metadata": {},
   "outputs": [],
   "source": [
    "res=shink(res,marked_arr)"
   ]
  },
  {
   "cell_type": "code",
   "execution_count": 343,
   "metadata": {},
   "outputs": [
    {
     "data": {
      "image/png": "[encoded data removed]",
      "text/plain": [
       "<PIL.Image.Image image mode=L size=512x512 at 0x7F9FAAD65B10>"
      ]
     },
     "execution_count": 343,
     "metadata": {},
     "output_type": "execute_result"
    }
   ],
   "source": [
    "img.fromarray(np.array(res,dtype='uint8'))"
   ]
  },
  {
   "cell_type": "code",
   "execution_count": 220,
   "metadata": {},
   "outputs": [],
   "source": [
    "res512=up(res)"
   ]
  },
  {
   "cell_type": "code",
   "execution_count": 221,
   "metadata": {},
   "outputs": [
    {
     "data": {
      "image/png": "[encoded data removed]",
      "text/plain": [
       "<PIL.Image.Image image mode=L size=512x512 at 0x7F9FAADCE750>"
      ]
     },
     "execution_count": 221,
     "metadata": {},
     "output_type": "execute_result"
    }
   ],
   "source": [
    "img.fromarray(np.array(res512,dtype='uint8'))"
   ]
  },
  {
   "cell_type": "code",
   "execution_count": 354,
   "metadata": {},
   "outputs": [
    {
     "data": {
      "image/png": "[encoded data removed]",
      "text/plain": [
       "<PIL.Image.Image image mode=L size=512x512 at 0x7F9FAAE6BE90>"
      ]
     },
     "execution_count": 354,
     "metadata": {},
     "output_type": "execute_result"
    }
   ],
   "source": [
    "res=down((lena_arr//128)*255)\n",
    "check=1\n",
    "while check:\n",
    "    yokoi_arr=yokoi(res)\n",
    "    marked_arr=pair(yokoi_arr)\n",
    "    res,check=shink(res,marked_arr)\n",
    "res512=up(res)\n",
    "img.fromarray(np.array(res512,dtype='uint8'))"
   ]
  },
  {
   "cell_type": "code",
   "execution_count": null,
   "metadata": {},
   "outputs": [],
   "source": []
  },
  {
   "cell_type": "code",
   "execution_count": null,
   "metadata": {},
   "outputs": [],
   "source": []
  }
 ],
 "metadata": {
  "kernelspec": {
   "display_name": "Python 3",
   "language": "python",
   "name": "python3"
  },
  "language_info": {
   "codemirror_mode": {
    "name": "ipython",
    "version": 3
   },
   "file_extension": ".py",
   "mimetype": "text/x-python",
   "name": "python",
   "nbconvert_exporter": "python",
   "pygments_lexer": "ipython3",
   "version": "3.7.6"
  }
 },
 "nbformat": 4,
 "nbformat_minor": 4
}
