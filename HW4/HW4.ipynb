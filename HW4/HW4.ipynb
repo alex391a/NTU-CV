{
 "cells": [
  {
   "cell_type": "code",
   "execution_count": null,
   "metadata": {},
   "outputs": [],
   "source": [
    "from PIL import Image as img\n",
    "import numpy as np\n",
    "import cv2\n",
    "import matplotlib.pyplot as plt\n",
    "lena=img.open('/Users/wangyiyao/NTU-CV/lena.bmp')\n",
    "lena_arr = np.asarray(lena)"
   ]
  },
  {
   "cell_type": "code",
   "execution_count": null,
   "metadata": {},
   "outputs": [],
   "source": [
    "def con(lena,mask):\n",
    "    m=len(mask)\n",
    "    n=len(mask[0])\n",
    "    mm=len(lena)\n",
    "    nn=len(lena[0])\n",
    "    res=[[0]*nn for i in range(mm)]\n",
    "    for i in range(mm):\n",
    "        for j in range(nn):\n",
    "            "
   ]
  }
 ],
 "metadata": {
  "kernelspec": {
   "display_name": "Python 3",
   "language": "python",
   "name": "python3"
  },
  "language_info": {
   "codemirror_mode": {
    "name": "ipython",
    "version": 3
   },
   "file_extension": ".py",
   "mimetype": "text/x-python",
   "name": "python",
   "nbconvert_exporter": "python",
   "pygments_lexer": "ipython3",
   "version": "3.7.6"
  }
 },
 "nbformat": 4,
 "nbformat_minor": 4
}
