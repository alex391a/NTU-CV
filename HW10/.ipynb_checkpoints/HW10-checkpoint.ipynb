{
 "cells": [
  {
   "cell_type": "code",
   "execution_count": 1,
   "metadata": {},
   "outputs": [],
   "source": [
    "from PIL import Image as img\n",
    "import numpy as np\n",
    "import cv2\n",
    "import matplotlib.pyplot as plt\n",
    "lena=img.open('lena.bmp')\n",
    "lena_arr = np.asarray(lena)"
   ]
  },
  {
   "cell_type": "code",
   "execution_count": 2,
   "metadata": {},
   "outputs": [],
   "source": [
    "def expan(arr):\n",
    "    m=len(arr)\n",
    "    n=len(arr[0])\n",
    "    res=res=[[0]*(n+2) for i in range(m+2)]\n",
    "    for i in range(1,m+1):\n",
    "        res[i][0]=arr[i-1][0]\n",
    "        res[i][n+1]=arr[i-1][n-1]\n",
    "    for j in range(1,n+1):\n",
    "        res[0][j]=arr[0][j-1]\n",
    "        res[m+1][j]=arr[m-1][j-1]\n",
    "    res[0][0]=arr[0][0]\n",
    "    res[0][n+1]=arr[0][n-1]\n",
    "    res[m+1][0]=arr[m-1][0]\n",
    "    res[m+1][n+1]=arr[m-1][n-1]\n",
    "    for i in range(1,m+1):\n",
    "        for j in range(1,n+1):\n",
    "            res[i][j]=arr[i-1][j-1]\n",
    "    return res"
   ]
  },
  {
   "cell_type": "code",
   "execution_count": 5,
   "metadata": {},
   "outputs": [],
   "source": [
    "mask=[[0, 0, 0, -1, -1, -2, -1, -1, 0, 0, 0],\n",
    "[0, 0, -2, -4, -8, -9, -8, -4, -2, 0, 0],\n",
    "[0, -2, -7, -15, -22, -23, -22, -15, -7, -2, 0],\n",
    "[-1, -4, -15, -24, -14, -1, -14, -24, -15, -4, -1],\n",
    "[-1, -8, -22, -14, 52, 103, 52, -14, -22, -8, -1],\n",
    "[-2, -9, -23, -1, 103, 178, 103, -1, -23, -9, -2],\n",
    "[-1, -8, -22, -14, 52, 103, 52, -14, -22, -8, -1],\n",
    "[-1, -4, -15, -24, -14, -1, -14, -24, -15, -4, -1],\n",
    "[0, -2, -7, -15, -22, -23, -22, -15, -7, -2, 0],\n",
    "[0, 0, -2, -4, -8, -9, -8, -4, -2, 0, 0],\n",
    "[0, 0, 0, -1, -1, -2, -1, -1, 0, 0, 0]]"
   ]
  },
  {
   "cell_type": "code",
   "execution_count": 21,
   "metadata": {},
   "outputs": [],
   "source": [
    "def my_conv(lena,mask,theshold):\n",
    "    m=len(lena)-len(mask)\n",
    "    n=len(lena[0])-len(mask[0])\n",
    "    mk=len(mask)\n",
    "    nk=len(mask[0])\n",
    "    res=[[0]*n for _ in range(m)]\n",
    "    for i in range(m):\n",
    "        for j in range(n):\n",
    "            tmp=0\n",
    "            for k in range(mk):\n",
    "                for l in range(nk):\n",
    "                    tmp+=mask[k][l]*lena[i+k][j+l]\n",
    "            if tmp<theshold:\n",
    "                res[i][j]=1\n",
    "    return res\n",
    "    "
   ]
  },
  {
   "cell_type": "code",
   "execution_count": 28,
   "metadata": {},
   "outputs": [],
   "source": [
    "def Laplace1(lena,theshold):\n",
    "    m=len(lena)\n",
    "    n=len(lena[0])\n",
    "    mask=[[0, 0, 0, -1, -1, -2, -1, -1, 0, 0, 0],\n",
    "[0, 0, -2, -4, -8, -9, -8, -4, -2, 0, 0],\n",
    "[0, -2, -7, -15, -22, -23, -22, -15, -7, -2, 0],\n",
    "[-1, -4, -15, -24, -14, -1, -14, -24, -15, -4, -1],\n",
    "[-1, -8, -22, -14, 52, 103, 52, -14, -22, -8, -1],\n",
    "[-2, -9, -23, -1, 103, 178, 103, -1, -23, -9, -2],\n",
    "[-1, -8, -22, -14, 52, 103, 52, -14, -22, -8, -1],\n",
    "[-1, -4, -15, -24, -14, -1, -14, -24, -15, -4, -1],\n",
    "[0, -2, -7, -15, -22, -23, -22, -15, -7, -2, 0],\n",
    "[0, 0, -2, -4, -8, -9, -8, -4, -2, 0, 0],\n",
    "[0, 0, 0, -1, -1, -2, -1, -1, 0, 0, 0]]\n",
    "    for i in range(5):\n",
    "        lena=expan(lena)\n",
    "    res1=my_conv(lena,mask,theshold)\n",
    "    res1=expan(res1)\n",
    "    res2=[[0]*m for _ in range(n)]\n",
    "    for i in range(m):\n",
    "        for j in range(n):\n",
    "            if res1[i+1][j+1]==1:\n",
    "                tmp=False\n",
    "                for k in range(3):\n",
    "                    for l in range(3):\n",
    "                        if res1[i+k][j+l]==-1:\n",
    "                            tmp=True\n",
    "                            break\n",
    "                    if tmp:\n",
    "                        break\n",
    "                if tmp:\n",
    "                    res2[i][j]=1\n",
    "    \n",
    "    return np.array(res2)*255"
   ]
  },
  {
   "cell_type": "code",
   "execution_count": 29,
   "metadata": {},
   "outputs": [
    {
     "ename": "IndexError",
     "evalue": "list index out of range",
     "output_type": "error",
     "traceback": [
      "\u001b[0;31m---------------------------------------------------------------------------\u001b[0m",
      "\u001b[0;31mIndexError\u001b[0m                                Traceback (most recent call last)",
      "\u001b[0;32m<ipython-input-29-d674713b2fdb>\u001b[0m in \u001b[0;36m<module>\u001b[0;34m\u001b[0m\n\u001b[0;32m----> 1\u001b[0;31m \u001b[0me\u001b[0m\u001b[0;34m=\u001b[0m\u001b[0mLaplace1\u001b[0m\u001b[0;34m(\u001b[0m\u001b[0mnp\u001b[0m\u001b[0;34m.\u001b[0m\u001b[0marray\u001b[0m\u001b[0;34m(\u001b[0m\u001b[0mlena_arr\u001b[0m\u001b[0;34m,\u001b[0m\u001b[0mdtype\u001b[0m\u001b[0;34m=\u001b[0m\u001b[0;34m'int'\u001b[0m\u001b[0;34m)\u001b[0m\u001b[0;34m,\u001b[0m\u001b[0;36m3000\u001b[0m\u001b[0;34m)\u001b[0m\u001b[0;34m\u001b[0m\u001b[0;34m\u001b[0m\u001b[0m\n\u001b[0m\u001b[1;32m      2\u001b[0m \u001b[0mimg\u001b[0m\u001b[0;34m.\u001b[0m\u001b[0mfromarray\u001b[0m\u001b[0;34m(\u001b[0m\u001b[0mnp\u001b[0m\u001b[0;34m.\u001b[0m\u001b[0marray\u001b[0m\u001b[0;34m(\u001b[0m\u001b[0me\u001b[0m\u001b[0;34m,\u001b[0m\u001b[0mdtype\u001b[0m\u001b[0;34m=\u001b[0m\u001b[0;34m'uint8'\u001b[0m\u001b[0;34m)\u001b[0m\u001b[0;34m)\u001b[0m\u001b[0;34m\u001b[0m\u001b[0;34m\u001b[0m\u001b[0m\n",
      "\u001b[0;32m<ipython-input-28-65b8563b99e5>\u001b[0m in \u001b[0;36mLaplace1\u001b[0;34m(lena, theshold)\u001b[0m\n\u001b[1;32m     22\u001b[0m                 \u001b[0;32mfor\u001b[0m \u001b[0mk\u001b[0m \u001b[0;32min\u001b[0m \u001b[0mrange\u001b[0m\u001b[0;34m(\u001b[0m\u001b[0;36m3\u001b[0m\u001b[0;34m)\u001b[0m\u001b[0;34m:\u001b[0m\u001b[0;34m\u001b[0m\u001b[0;34m\u001b[0m\u001b[0m\n\u001b[1;32m     23\u001b[0m                     \u001b[0;32mfor\u001b[0m \u001b[0ml\u001b[0m \u001b[0;32min\u001b[0m \u001b[0mrange\u001b[0m\u001b[0;34m(\u001b[0m\u001b[0;36m3\u001b[0m\u001b[0;34m)\u001b[0m\u001b[0;34m:\u001b[0m\u001b[0;34m\u001b[0m\u001b[0;34m\u001b[0m\u001b[0m\n\u001b[0;32m---> 24\u001b[0;31m                         \u001b[0;32mif\u001b[0m \u001b[0mres1\u001b[0m\u001b[0;34m[\u001b[0m\u001b[0mi\u001b[0m\u001b[0;34m+\u001b[0m\u001b[0mk\u001b[0m\u001b[0;34m]\u001b[0m\u001b[0;34m[\u001b[0m\u001b[0mj\u001b[0m\u001b[0;34m+\u001b[0m\u001b[0ml\u001b[0m\u001b[0;34m]\u001b[0m\u001b[0;34m==\u001b[0m\u001b[0;34m-\u001b[0m\u001b[0;36m1\u001b[0m\u001b[0;34m:\u001b[0m\u001b[0;34m\u001b[0m\u001b[0;34m\u001b[0m\u001b[0m\n\u001b[0m\u001b[1;32m     25\u001b[0m                             \u001b[0mtmp\u001b[0m\u001b[0;34m=\u001b[0m\u001b[0;32mTrue\u001b[0m\u001b[0;34m\u001b[0m\u001b[0;34m\u001b[0m\u001b[0m\n\u001b[1;32m     26\u001b[0m                             \u001b[0;32mbreak\u001b[0m\u001b[0;34m\u001b[0m\u001b[0;34m\u001b[0m\u001b[0m\n",
      "\u001b[0;31mIndexError\u001b[0m: list index out of range"
     ]
    }
   ],
   "source": [
    "e=Laplace1(np.array(lena_arr,dtype='int'),3000)\n",
    "img.fromarray(np.array(e,dtype='uint8'))"
   ]
  },
  {
   "cell_type": "code",
   "execution_count": null,
   "metadata": {},
   "outputs": [],
   "source": []
  }
 ],
 "metadata": {
  "kernelspec": {
   "display_name": "Python 3",
   "language": "python",
   "name": "python3"
  },
  "language_info": {
   "codemirror_mode": {
    "name": "ipython",
    "version": 3
   },
   "file_extension": ".py",
   "mimetype": "text/x-python",
   "name": "python",
   "nbconvert_exporter": "python",
   "pygments_lexer": "ipython3",
   "version": "3.7.6"
  }
 },
 "nbformat": 4,
 "nbformat_minor": 4
}
