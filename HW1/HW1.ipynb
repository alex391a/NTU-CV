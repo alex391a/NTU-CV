{
 "cells": [
  {
   "cell_type": "code",
   "execution_count": 160,
   "metadata": {},
   "outputs": [],
   "source": [
    "from PIL import Image as img\n",
    "import numpy as np\n",
    "import cv2\n",
    "lena=img.open('/Users/wangyiyao/NTU-CV/lena.bmp')\n",
    "lena_arr = np.asarray(lena)"
   ]
  },
  {
   "cell_type": "code",
   "execution_count": 161,
   "metadata": {},
   "outputs": [],
   "source": [
    "HW1_a=lena_arr[::-1]\n",
    "HW1_b=np.array([i[::-1] for i in lena_arr])\n",
    "HW1_c=lena_arr.T\n",
    "rotate = cv2.getRotationMatrix2D((256,256), 45, 1)\n",
    "HW1_d=cv2.warpAffine(lena_arr,rotate,(512,512))\n",
    "tmp=np.array(lena_arr,dtype='int')\n",
    "HW1_e=[[(tmp[i*2][j*2]+tmp[i*2+1][j*2]+tmp[i*2][j*2+1]+tmp[i*2+1][j*2+1])//4 for j in range(256)] for i in range(256)]\n",
    "HW1_e=np.array(HW1_e,dtype='uint8')\n",
    "HW1_f=(lena_arr//128)*255"
   ]
  },
  {
   "cell_type": "code",
   "execution_count": 162,
   "metadata": {},
   "outputs": [],
   "source": [
    "img.fromarray(HW1_a).save(\"HW1_a.bmp\")\n",
    "img.fromarray(HW1_b).save(\"HW1_b.bmp\")\n",
    "img.fromarray(HW1_c).save(\"HW1_c.bmp\")\n",
    "img.fromarray(HW1_d).save(\"HW1_d.bmp\")\n",
    "img.fromarray(HW1_e).save(\"HW1_e.bmp\")\n",
    "img.fromarray(HW1_f).save(\"HW1_f.bmp\")"
   ]
  },
  {
   "cell_type": "code",
   "execution_count": null,
   "metadata": {},
   "outputs": [],
   "source": []
  }
 ],
 "metadata": {
  "kernelspec": {
   "display_name": "Python 3",
   "language": "python",
   "name": "python3"
  },
  "language_info": {
   "codemirror_mode": {
    "name": "ipython",
    "version": 3
   },
   "file_extension": ".py",
   "mimetype": "text/x-python",
   "name": "python",
   "nbconvert_exporter": "python",
   "pygments_lexer": "ipython3",
   "version": "3.7.6"
  }
 },
 "nbformat": 4,
 "nbformat_minor": 4
}
